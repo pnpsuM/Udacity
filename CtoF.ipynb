{
  "nbformat": 4,
  "nbformat_minor": 0,
  "metadata": {
    "colab": {
      "private_outputs": true,
      "provenance": [],
      "authorship_tag": "ABX9TyPtCDswa++VFZ9gDeHCPsja",
      "include_colab_link": true
    },
    "kernelspec": {
      "name": "python3",
      "display_name": "Python 3"
    },
    "language_info": {
      "name": "python"
    },
    "accelerator": "GPU",
    "gpuClass": "standard"
  },
  "cells": [
    {
      "cell_type": "markdown",
      "metadata": {
        "id": "view-in-github",
        "colab_type": "text"
      },
      "source": [
        "<a href=\"https://colab.research.google.com/github/pnpsuM/Udacity/blob/main/CtoF.ipynb\" target=\"_parent\"><img src=\"https://colab.research.google.com/assets/colab-badge.svg\" alt=\"Open In Colab\"/></a>"
      ]
    },
    {
      "cell_type": "code",
      "execution_count": null,
      "metadata": {
        "id": "oVXBMPbunUBP"
      },
      "outputs": [],
      "source": [
        "import tensorflow as tf\n",
        "import numpy as np\n",
        "from tensorflow.keras import layers, Sequential\n",
        "from tensorflow.keras.optimizers import Adam\n",
        "\n",
        "celcius_q = np.array([-40,-10,0,8,15,22,38])\n",
        "farenheit_a = np.array([-40,14,32,46,59,72,100])\n",
        "\n",
        "layer = layers.Dense(1, input_shape = [1])"
      ]
    },
    {
      "cell_type": "code",
      "source": [
        "model = Sequential([layer])\n",
        "model.compile(loss = 'MSE', optimizer = Adam(0.1))\n",
        "model.summary()"
      ],
      "metadata": {
        "id": "uv0WAiLSt0rI"
      },
      "execution_count": null,
      "outputs": []
    },
    {
      "cell_type": "code",
      "source": [
        "history = model.fit(celcius_q, farenheit_a, epochs = 500, verbose = 0)"
      ],
      "metadata": {
        "id": "Z2sEF03ht1vU"
      },
      "execution_count": null,
      "outputs": []
    },
    {
      "cell_type": "code",
      "source": [
        "print(f'W: {float(layer.weights[0]):.3f}, b: {float(layer.weights[1]):.3f}')"
      ],
      "metadata": {
        "id": "ZQ6vre8UwFkV"
      },
      "execution_count": null,
      "outputs": []
    },
    {
      "cell_type": "code",
      "source": [
        "import matplotlib.pyplot as plt\n",
        "plt.plot(history.history['loss'])"
      ],
      "metadata": {
        "id": "eYIC6r3ivTTu"
      },
      "execution_count": null,
      "outputs": []
    },
    {
      "cell_type": "code",
      "source": [
        "model.predict([100])"
      ],
      "metadata": {
        "id": "vFlLILjzvOFQ"
      },
      "execution_count": null,
      "outputs": []
    }
  ]
}